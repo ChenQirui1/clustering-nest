{
 "cells": [
  {
   "cell_type": "code",
   "execution_count": 2,
   "metadata": {},
   "outputs": [
    {
     "name": "stdout",
     "output_type": "stream",
     "text": [
      "[1. 1. 1. ... 1. 1. 1.]\n",
      "[ 1.35592812e-16 -1.34682793e-16 -3.27606794e-16 ...  2.36604907e-17\n",
      "  2.05664265e-16 -6.80694117e-16]\n"
     ]
    }
   ],
   "source": [
    "import pandas as pd\n",
    "import numpy as np\n",
    "import json\n",
    "from matplotlib import pyplot as plt\n",
    "\n",
    "df = pd.read_json(\"../data/benefits_transformed.json\")\n",
    "df = df.dropna(subset=['embeddings'])\n",
    "len(df)\n",
    "\n",
    "# load task_transformed.json\n",
    "with open('../data/benefits_transformed.json') as json_file:\n",
    "    data = json.load(json_file)\n",
    "\n",
    "# save all embeddings in a 2d array\n",
    "embeddings = []\n",
    "\n",
    "for task in data:\n",
    "    if task['embeddings'] is not None:\n",
    "        embeddings.append(task['embeddings'])\n",
    "\n",
    "# convert embeddings to numpy array\n",
    "X = np.array(embeddings)\n",
    "X.shape\n",
    "\n",
    "\n",
    "#standardize X\n",
    "from sklearn.preprocessing import StandardScaler\n",
    "# X = (X - np.mean(X,axis=0)) / np.std(X,axis=0)\n",
    "scaler = StandardScaler()\n",
    "scaler.fit(X)\n",
    "standardised_X = scaler.transform(X)\n",
    "print(np.std(standardised_X,axis=0))\n",
    "print(np.mean(standardised_X,axis=0))\n",
    "\n",
    "\n",
    "from sklearn.decomposition import PCA\n",
    "\n",
    "pca = PCA(n_components=2)\n",
    "pca.fit(X)\n",
    "X_pca = pca.transform(X)\n"
   ]
  },
  {
   "cell_type": "code",
   "execution_count": 3,
   "metadata": {},
   "outputs": [],
   "source": [
    "import numpy as np\n",
    "from sklearn.cluster import KMeans\n",
    "from sklearn.metrics import silhouette_score\n",
    "\n",
    "\n",
    "class InOutKmeans():\n",
    "    def __init__(self):\n",
    "        self._centroids = []\n",
    "        # self._points_in_centroids = []\n",
    "        self.data = []\n",
    "\n",
    "    def predict(self, newPoint):\n",
    "        if len(self._centroids) >= 2:\n",
    "            \n",
    "            self.data.append(newPoint)\n",
    "            \n",
    "            inCluster = KMeans(n_clusters=len(self._centroids),\n",
    "                               random_state=0).fit_predict(self.data)\n",
    "            \n",
    "            \n",
    "            \n",
    "            outCluster = KMeans(n_clusters=len(self._centroids)+1,\n",
    "                                random_state=0).fit_predict(self.data)\n",
    "\n",
    "            inScore = silhouette_score(self.data, inCluster)\n",
    "\n",
    "            outScore = silhouette_score(self.data, outCluster)\n",
    "\n",
    "            if inScore < outScore:\n",
    "                # new cluster\n",
    "                self._centroids.append(newPoint)\n",
    "                return len(self._centroids)-1\n",
    "\n",
    "            else:\n",
    "\n",
    "                # return point to cluster\n",
    "                label = outCluster[-1]\n",
    "\n",
    "                return label\n",
    "            \n",
    "        elif (len(self._centroids) == 1):\n",
    "            self.data.append(newPoint)\n",
    "            self._centroids.append(newPoint)\n",
    "            return 1\n",
    "        else:\n",
    "            # assign first point to cluster\n",
    "            self._centroids.append(newPoint)\n",
    "            self.data.append(newPoint)\n",
    "            return 0\n",
    "\n"
   ]
  },
  {
   "cell_type": "code",
   "execution_count": 39,
   "metadata": {},
   "outputs": [
    {
     "name": "stdout",
     "output_type": "stream",
     "text": [
      "centroids  []\n",
      "[array([0.27467288, 0.12134298])]\n",
      "[array([0.27467288, 0.12134298]), array([ 0.02049128, -0.02187458])]\n"
     ]
    },
    {
     "name": "stderr",
     "output_type": "stream",
     "text": [
      "c:\\Users\\potat\\miniconda3\\envs\\ds\\lib\\site-packages\\sklearn\\cluster\\_kmeans.py:870: FutureWarning: The default value of `n_init` will change from 10 to 'auto' in 1.4. Set the value of `n_init` explicitly to suppress the warning\n",
      "  warnings.warn(\n",
      "c:\\Users\\potat\\miniconda3\\envs\\ds\\lib\\site-packages\\sklearn\\cluster\\_kmeans.py:870: FutureWarning: The default value of `n_init` will change from 10 to 'auto' in 1.4. Set the value of `n_init` explicitly to suppress the warning\n",
      "  warnings.warn(\n"
     ]
    },
    {
     "ename": "ValueError",
     "evalue": "Number of labels is 3. Valid values are 2 to n_samples - 1 (inclusive)",
     "output_type": "error",
     "traceback": [
      "\u001b[1;31m---------------------------------------------------------------------------\u001b[0m",
      "\u001b[1;31mValueError\u001b[0m                                Traceback (most recent call last)",
      "Cell \u001b[1;32mIn[39], line 16\u001b[0m\n\u001b[0;32m     14\u001b[0m \u001b[38;5;28mprint\u001b[39m(\u001b[38;5;124m\"\u001b[39m\u001b[38;5;124mcentroids \u001b[39m\u001b[38;5;124m\"\u001b[39m,centroids)\n\u001b[0;32m     15\u001b[0m \u001b[38;5;28;01mfor\u001b[39;00m idx,i \u001b[38;5;129;01min\u001b[39;00m \u001b[38;5;28menumerate\u001b[39m(X_pca):\n\u001b[1;32m---> 16\u001b[0m     labels\u001b[38;5;241m.\u001b[39mappend(\u001b[43mmodel\u001b[49m\u001b[38;5;241;43m.\u001b[39;49m\u001b[43mpredict\u001b[49m\u001b[43m(\u001b[49m\u001b[43mi\u001b[49m\u001b[43m)\u001b[49m)\n\u001b[0;32m     17\u001b[0m     \u001b[38;5;66;03m#plot existing data\u001b[39;00m\n\u001b[0;32m     18\u001b[0m     data_seen\u001b[38;5;241m.\u001b[39mappend(i)\n",
      "Cell \u001b[1;32mIn[38], line 27\u001b[0m, in \u001b[0;36mInOutKmeans.predict\u001b[1;34m(self, newPoint)\u001b[0m\n\u001b[0;32m     22\u001b[0m outCluster \u001b[38;5;241m=\u001b[39m KMeans(n_clusters\u001b[38;5;241m=\u001b[39m\u001b[38;5;28mlen\u001b[39m(\u001b[38;5;28mself\u001b[39m\u001b[38;5;241m.\u001b[39m_centroids)\u001b[38;5;241m+\u001b[39m\u001b[38;5;241m1\u001b[39m,\n\u001b[0;32m     23\u001b[0m                     random_state\u001b[38;5;241m=\u001b[39m\u001b[38;5;241m0\u001b[39m)\u001b[38;5;241m.\u001b[39mfit_predict(\u001b[38;5;28mself\u001b[39m\u001b[38;5;241m.\u001b[39mdata)\n\u001b[0;32m     25\u001b[0m inScore \u001b[38;5;241m=\u001b[39m silhouette_score(\u001b[38;5;28mself\u001b[39m\u001b[38;5;241m.\u001b[39mdata, inCluster)\n\u001b[1;32m---> 27\u001b[0m outScore \u001b[38;5;241m=\u001b[39m \u001b[43msilhouette_score\u001b[49m\u001b[43m(\u001b[49m\u001b[38;5;28;43mself\u001b[39;49m\u001b[38;5;241;43m.\u001b[39;49m\u001b[43mdata\u001b[49m\u001b[43m,\u001b[49m\u001b[43m \u001b[49m\u001b[43moutCluster\u001b[49m\u001b[43m)\u001b[49m\n\u001b[0;32m     29\u001b[0m \u001b[38;5;28;01mif\u001b[39;00m inScore \u001b[38;5;241m<\u001b[39m outScore:\n\u001b[0;32m     30\u001b[0m     \u001b[38;5;66;03m# new cluster\u001b[39;00m\n\u001b[0;32m     31\u001b[0m     \u001b[38;5;28mself\u001b[39m\u001b[38;5;241m.\u001b[39m_centroids\u001b[38;5;241m.\u001b[39mappend(newPoint)\n",
      "File \u001b[1;32mc:\\Users\\potat\\miniconda3\\envs\\ds\\lib\\site-packages\\sklearn\\metrics\\cluster\\_unsupervised.py:117\u001b[0m, in \u001b[0;36msilhouette_score\u001b[1;34m(X, labels, metric, sample_size, random_state, **kwds)\u001b[0m\n\u001b[0;32m    115\u001b[0m     \u001b[38;5;28;01melse\u001b[39;00m:\n\u001b[0;32m    116\u001b[0m         X, labels \u001b[38;5;241m=\u001b[39m X[indices], labels[indices]\n\u001b[1;32m--> 117\u001b[0m \u001b[38;5;28;01mreturn\u001b[39;00m np\u001b[38;5;241m.\u001b[39mmean(silhouette_samples(X, labels, metric\u001b[38;5;241m=\u001b[39mmetric, \u001b[38;5;241m*\u001b[39m\u001b[38;5;241m*\u001b[39mkwds))\n",
      "File \u001b[1;32mc:\\Users\\potat\\miniconda3\\envs\\ds\\lib\\site-packages\\sklearn\\metrics\\cluster\\_unsupervised.py:231\u001b[0m, in \u001b[0;36msilhouette_samples\u001b[1;34m(X, labels, metric, **kwds)\u001b[0m\n\u001b[0;32m    229\u001b[0m n_samples \u001b[38;5;241m=\u001b[39m \u001b[38;5;28mlen\u001b[39m(labels)\n\u001b[0;32m    230\u001b[0m label_freqs \u001b[38;5;241m=\u001b[39m np\u001b[38;5;241m.\u001b[39mbincount(labels)\n\u001b[1;32m--> 231\u001b[0m \u001b[43mcheck_number_of_labels\u001b[49m\u001b[43m(\u001b[49m\u001b[38;5;28;43mlen\u001b[39;49m\u001b[43m(\u001b[49m\u001b[43mle\u001b[49m\u001b[38;5;241;43m.\u001b[39;49m\u001b[43mclasses_\u001b[49m\u001b[43m)\u001b[49m\u001b[43m,\u001b[49m\u001b[43m \u001b[49m\u001b[43mn_samples\u001b[49m\u001b[43m)\u001b[49m\n\u001b[0;32m    233\u001b[0m kwds[\u001b[38;5;124m\"\u001b[39m\u001b[38;5;124mmetric\u001b[39m\u001b[38;5;124m\"\u001b[39m] \u001b[38;5;241m=\u001b[39m metric\n\u001b[0;32m    234\u001b[0m reduce_func \u001b[38;5;241m=\u001b[39m functools\u001b[38;5;241m.\u001b[39mpartial(\n\u001b[0;32m    235\u001b[0m     _silhouette_reduce, labels\u001b[38;5;241m=\u001b[39mlabels, label_freqs\u001b[38;5;241m=\u001b[39mlabel_freqs\n\u001b[0;32m    236\u001b[0m )\n",
      "File \u001b[1;32mc:\\Users\\potat\\miniconda3\\envs\\ds\\lib\\site-packages\\sklearn\\metrics\\cluster\\_unsupervised.py:33\u001b[0m, in \u001b[0;36mcheck_number_of_labels\u001b[1;34m(n_labels, n_samples)\u001b[0m\n\u001b[0;32m     22\u001b[0m \u001b[38;5;250m\u001b[39m\u001b[38;5;124;03m\"\"\"Check that number of labels are valid.\u001b[39;00m\n\u001b[0;32m     23\u001b[0m \n\u001b[0;32m     24\u001b[0m \u001b[38;5;124;03mParameters\u001b[39;00m\n\u001b[1;32m   (...)\u001b[0m\n\u001b[0;32m     30\u001b[0m \u001b[38;5;124;03m    Number of samples.\u001b[39;00m\n\u001b[0;32m     31\u001b[0m \u001b[38;5;124;03m\"\"\"\u001b[39;00m\n\u001b[0;32m     32\u001b[0m \u001b[38;5;28;01mif\u001b[39;00m \u001b[38;5;129;01mnot\u001b[39;00m \u001b[38;5;241m1\u001b[39m \u001b[38;5;241m<\u001b[39m n_labels \u001b[38;5;241m<\u001b[39m n_samples:\n\u001b[1;32m---> 33\u001b[0m     \u001b[38;5;28;01mraise\u001b[39;00m \u001b[38;5;167;01mValueError\u001b[39;00m(\n\u001b[0;32m     34\u001b[0m         \u001b[38;5;124m\"\u001b[39m\u001b[38;5;124mNumber of labels is \u001b[39m\u001b[38;5;132;01m%d\u001b[39;00m\u001b[38;5;124m. Valid values are 2 to n_samples - 1 (inclusive)\u001b[39m\u001b[38;5;124m\"\u001b[39m\n\u001b[0;32m     35\u001b[0m         \u001b[38;5;241m%\u001b[39m n_labels\n\u001b[0;32m     36\u001b[0m     )\n",
      "\u001b[1;31mValueError\u001b[0m: Number of labels is 3. Valid values are 2 to n_samples - 1 (inclusive)"
     ]
    }
   ],
   "source": [
    "model = InOutKmeans()\n",
    "\n",
    "# model._points_in_centroids\n",
    "labels = []\n",
    "data_seen = []\n",
    "# for idx,i in enumerate(X_pca):\n",
    "#     labels.append(model.predict(i,cutoff=0.2))\n",
    "#     #plot existing data\n",
    "#     #plot new data\n",
    "\n",
    "#show centroids\n",
    "centroids = np.array(model._centroids)\n",
    "# plt.scatter(x=centroids[:,0],y=centroids[:,1],c='black',s=200,marker='x')\n",
    "print(\"centroids \",centroids)\n",
    "for idx,i in enumerate(X_pca):\n",
    "    labels.append(model.predict(i))\n",
    "    #plot existing data\n",
    "    data_seen.append(i)\n",
    "    print(model._centroids)\n",
    "    # test = np.array(data_seen)\n",
    "    #plot new data\n",
    "    # plt.scatter(test[:,0],test[:,1],c=labels)\n",
    "    # #show centroids\n",
    "    # print(len(model._centroids))\n",
    "    # centroids = np.array(model._centroids)\n",
    "    # plt.scatter(x=centroids[:,0],y=centroids[:,1],c='black',s=200,marker='x')\n",
    "    # print(\"centroids \",centroids)\n",
    "    # #sabe figure to folder: \"testfigure\"\n",
    "    # plt.savefig(\"testbenefits/\"+str(idx)+\".png\")\n",
    "    # plt.clf()"
   ]
  },
  {
   "cell_type": "code",
   "execution_count": null,
   "metadata": {},
   "outputs": [
    {
     "name": "stderr",
     "output_type": "stream",
     "text": [
      "C:\\Users\\potat\\AppData\\Local\\Temp\\ipykernel_4968\\939660968.py:2: UserWarning: No data for colormapping provided via 'c'. Parameters 'cmap' will be ignored\n",
      "  plt.scatter(X_pca[:,0],X_pca[:,1],c=labels,cmap='rainbow')\n"
     ]
    },
    {
     "data": {
      "image/png": "[encoded data removed]",
      "text/plain": [
       "<Figure size 640x480 with 1 Axes>"
      ]
     },
     "metadata": {},
     "output_type": "display_data"
    }
   ],
   "source": [
    "#plot evolution of data\n",
    "plt.scatter(X_pca[:,0],X_pca[:,1],c=labels,cmap='rainbow')\n",
    "for i in range(len(model._centroids)):\n",
    "    plt.scatter(model._centroids[i][0],model._centroids[i][1],c='black',s=200,marker='x')\n",
    "    "
   ]
  }
 ],
 "metadata": {
  "kernelspec": {
   "display_name": "ds",
   "language": "python",
   "name": "python3"
  },
  "language_info": {
   "codemirror_mode": {
    "name": "ipython",
    "version": 3
   },
   "file_extension": ".py",
   "mimetype": "text/x-python",
   "name": "python",
   "nbconvert_exporter": "python",
   "pygments_lexer": "ipython3",
   "version": "3.10.12"
  }
 },
 "nbformat": 4,
 "nbformat_minor": 2
}
